{
 "cells": [
  {
   "cell_type": "code",
   "execution_count": 34,
   "metadata": {},
   "outputs": [],
   "source": [
    "setwd(\"C://Doc/19spring/STAT628/Module1\")\n",
    "rm(list=ls())\n",
    "\n",
    "\n",
    "#data cleaning\n",
    "BodyFat = read.table(\"BodyFat.csv\", sep = \",\", header = T)\n",
    "BodyFat = BodyFat[,-1]\n",
    "BodyFat = BodyFat[,-2]\n",
    "BodyFat$HEIGHT[42] <- 69.5\n",
    "BodyFat$WEIGHT[221] <- 173.25\n",
    "BodyFat$WEIGHT[163] <- 164.25\n",
    "BodyFat <- BodyFat[-c(182,172,39),]"
   ]
  },
  {
   "cell_type": "markdown",
   "metadata": {},
   "source": [
    "Since Lasso regression penalize the coeeficients with the same regulization. We need to regulize the features first. Lasso can eliminate the muticollinearity in a certain degree. However, it cannot tackle with the collinearity between authentic and noisy variables.$^{[1]}$ Thus we pick some variables according to our background research. We check the VIF and correlation of the selected variables. They donot have serious collinearity.<br>\n",
    "Then we split the data into two parts. It can help us to choose a better $\\lambda$."
   ]
  },
  {
   "cell_type": "code",
   "execution_count": 35,
   "metadata": {
    "collapsed": true
   },
   "outputs": [
    {
     "name": "stdout",
     "output_type": "stream",
     "text": [
      "[1] \"The VIF of the selected variables are:\"\n"
     ]
    },
    {
     "data": {
      "text/html": [
       "<dl class=dl-horizontal>\n",
       "\t<dt>AGE</dt>\n",
       "\t\t<dd>2.08412975539725</dd>\n",
       "\t<dt>ABDOMEN</dt>\n",
       "\t\t<dd>3.65302267586542</dd>\n",
       "\t<dt>HEIGHT</dt>\n",
       "\t\t<dd>1.69160316069141</dd>\n",
       "\t<dt>KNEE</dt>\n",
       "\t\t<dd>4.1650229547156</dd>\n",
       "\t<dt>THIGH</dt>\n",
       "\t\t<dd>5.26028815495626</dd>\n",
       "\t<dt>ANKLE</dt>\n",
       "\t\t<dd>1.71377337254516</dd>\n",
       "\t<dt>BICEPS</dt>\n",
       "\t\t<dd>3.02433864381498</dd>\n",
       "\t<dt>FOREARM</dt>\n",
       "\t\t<dd>2.21926062466201</dd>\n",
       "\t<dt>WRIST</dt>\n",
       "\t\t<dd>2.60956384396674</dd>\n",
       "</dl>\n"
      ],
      "text/latex": [
       "\\begin{description*}\n",
       "\\item[AGE] 2.08412975539725\n",
       "\\item[ABDOMEN] 3.65302267586542\n",
       "\\item[HEIGHT] 1.69160316069141\n",
       "\\item[KNEE] 4.1650229547156\n",
       "\\item[THIGH] 5.26028815495626\n",
       "\\item[ANKLE] 1.71377337254516\n",
       "\\item[BICEPS] 3.02433864381498\n",
       "\\item[FOREARM] 2.21926062466201\n",
       "\\item[WRIST] 2.60956384396674\n",
       "\\end{description*}\n"
      ],
      "text/markdown": [
       "AGE\n",
       ":   2.08412975539725ABDOMEN\n",
       ":   3.65302267586542HEIGHT\n",
       ":   1.69160316069141KNEE\n",
       ":   4.1650229547156THIGH\n",
       ":   5.26028815495626ANKLE\n",
       ":   1.71377337254516BICEPS\n",
       ":   3.02433864381498FOREARM\n",
       ":   2.21926062466201WRIST\n",
       ":   2.60956384396674\n",
       "\n"
      ],
      "text/plain": [
       "     AGE  ABDOMEN   HEIGHT     KNEE    THIGH    ANKLE   BICEPS  FOREARM \n",
       "2.084130 3.653023 1.691603 4.165023 5.260288 1.713773 3.024339 2.219261 \n",
       "   WRIST \n",
       "2.609564 "
      ]
     },
     "metadata": {},
     "output_type": "display_data"
    },
    {
     "data": {
      "image/png": "[encoded data removed]",
      "text/plain": [
       "Plot with title \"\n",
       " Correlation Plot\""
      ]
     },
     "metadata": {},
     "output_type": "display_data"
    }
   ],
   "source": [
    "if(!require(plotmo)){\n",
    "    install.package(\"plotmo\")\n",
    "}\n",
    "if(!require(glmnet)){\n",
    "    install.package(\"glmnet\")\n",
    "}\n",
    "if(!require(corrplot)){\n",
    "    install.package(\"corrplot\")\n",
    "}\n",
    "require(plotmo)\n",
    "require(corrplot)\n",
    "require(glmnet)\n",
    "#LASSO normalization\n",
    "normalization <- function(datafr){\n",
    "  if(ncol(datafr) > 1){\n",
    "    new_dt <- as.data.frame(sapply(1:ncol(datafr), FUN = function(x)\n",
    "      (datafr[,x]-min(datafr[,x]))/(max(datafr[,x]-min(datafr[,x])))))\n",
    "    names(new_dt) <- names(datafr)\n",
    "    return(new_dt)\n",
    "  }else{\n",
    "    return((datafr-min(datafr))/(max(datafr)-min(datafr)))\n",
    "  }\n",
    "}\n",
    "unnormalization <- function(data_norm, data_raw){\n",
    "  ###data_norm is the data before normalization, data_raw is the data after normalization\n",
    "  if(ncol(data_raw) == 1){\n",
    "    data_trans <- data_raw*(max(data_norm)-min(data_norm))+min(data_norm)\n",
    "    return(data_trans)\n",
    "  }\n",
    "  if(!(ncol(data_norm) == ncol(data_raw))){\n",
    "    stop(\"Size does not match\")\n",
    "  }\n",
    "  if(ncol(data_norm)>1){\n",
    "    data_trans = as.data.frame(sapply(1:ncol(data_raw), FUN = function(x) \n",
    "      data_raw[,x]*(max(data_norm)-min(data_norm))+min(data_norm)))\n",
    "    names(data_trans) <- names(data_raw)\n",
    "    return(data_trans)\n",
    "  }\n",
    "}\n",
    "#Eliminating the muticollinearity\n",
    "BodyFat = BodyFat[,c(\"BODYFAT\",\"AGE\",\"ABDOMEN\",\"HEIGHT\",\"KNEE\",\"THIGH\",\"ANKLE\",\"BICEPS\",\"FOREARM\",\"WRIST\")]\n",
    "corrplot::corrplot(cor(BodyFat),main=\"\\n Correlation Plot\")\n",
    "print(\"The VIF of the selected variables are:\")\n",
    "car::vif(lm(BODYFAT~.,data=normalization(BodyFat)))\n",
    "#data split\n",
    "all_row = 1:nrow(BodyFat)\n",
    "test = sample(all_row,nrow(BodyFat)*.2)\n",
    "train = all_row[!(all_row %in% test)]\n",
    "test = BodyFat[test,]\n",
    "train = BodyFat[train,]\n",
    "test_norm <- normalization(test)\n",
    "train_norm <- normalization(train)          "
   ]
  },
  {
   "cell_type": "markdown",
   "metadata": {},
   "source": [
    "We try $\\lambda$ from $log(-10)$ to $log(-1)$. The plot below is the MSE v.s $log(\\lambda)$. Both train and test MSE increase as the $\\lambda$ grows. It stops increasing when $\\lambda$ is large enough to eliminate all coefficients. The trace plot of the coefficient shows that the number of features decrease as the lambda grows."
   ]
  },
  {
   "cell_type": "code",
   "execution_count": 38,
   "metadata": {},
   "outputs": [
    {
     "name": "stderr",
     "output_type": "stream",
     "text": [
      "Warning message in plot.xy(xy, type, ...):\n",
      "\"plot type 'line' will be truncated to first character\"Warning message in plot.xy(xy.coords(x, y), type = type, ...):\n",
      "\"plot type 'line' will be truncated to first character\""
     ]
    },
    {
     "data": {
      "image/png": "[encoded data removed]",
      "text/plain": [
       "plot without title"
      ]
     },
     "metadata": {},
     "output_type": "display_data"
    },
    {
     "data": {
      "image/png": "[encoded data removed]",
      "text/plain": [
       "Plot with title \"\""
      ]
     },
     "metadata": {},
     "output_type": "display_data"
    }
   ],
   "source": [
    "#Training lasso reg and select a best lambda\n",
    "log_lambda_range <- seq(-10,-1,0.01)\n",
    "MSE_train=c()\n",
    "MSE_test = c()\n",
    "for(log_lambda in log_lambda_range){\n",
    "  fit.lasso <- glmnet(x=model.matrix(~.,train_norm[,-1]), y=train_norm[,1],\n",
    "                      family=\"gaussian\", alpha=1, lambda = exp(log_lambda))\n",
    "  y_pred <- predict(fit.lasso, newx = model.matrix(~.,train_norm[,-1]))\n",
    "  train_error = y_pred - train_norm[,1]\n",
    "  MSE_train <- c(MSE_train, mean(train_error^2))\n",
    "  y_pred <- predict(fit.lasso, newx = model.matrix(~.,test_norm[,-1]))\n",
    "  test_error = y_pred - test_norm[,1]\n",
    "  MSE_test = c(MSE_test, mean(test_error^2))\n",
    "}\n",
    "#Plot MSE v.s lmabda\n",
    "plot(log_lambda_range, MSE_train, col = 'red', type=\"line\", xlab = \"log_lambda\",ylab=\"MSE\",\n",
    "     ylim=c(min(c(MSE_train,MSE_test)),max(c(MSE_train,MSE_test))))\n",
    "lines(log_lambda_range, MSE_test, col = \"blue\", type=\"line\")\n",
    "legend(\"top\", legend = c(\"Train\", \"test\"), col = c(\"red\",\"blue\"), lty=1)\n",
    "#Plot the coefficients trace plot\n",
    "model <- glmnet(x=model.matrix(~.,train_norm[,-1]), y=train_norm[,1],\n",
    "                family=\"gaussian\", alpha=1, lambda = exp(log_lambda_range))\n",
    "plotmo::plot_glmnet(model)"
   ]
  },
  {
   "cell_type": "markdown",
   "metadata": {},
   "source": [
    "Then we check how MSE behave when using crossvalidation. The following plot shows that it donot have a large deviation when doing 10-folds crossvalidation. Take both MSE and model complexity into consideration, we choose $\\lambda=log(-4)$ as the final Lasso model."
   ]
  },
  {
   "cell_type": "code",
   "execution_count": 39,
   "metadata": {},
   "outputs": [
    {
     "data": {
      "image/png": "[encoded data removed]",
      "text/plain": [
       "plot without title"
      ]
     },
     "metadata": {},
     "output_type": "display_data"
    }
   ],
   "source": [
    "#cross validation model on the whole dataset\n",
    "body_norm = normalization(BodyFat)\n",
    "cv_model = cv.glmnet(x=model.matrix(~.,body_norm[,-1]), y=body_norm[,1],\n",
    "                     family=\"gaussian\", alpha=1, lambda = exp(log_lambda_range),\n",
    "                     nfolds=10)\n",
    "plot(cv_model)"
   ]
  },
  {
   "cell_type": "markdown",
   "metadata": {},
   "source": [
    "We fit the lasso model on the whole dataset with $\\lambda=log(-4)$. When we check the residuals, it shows some patterns. The model is not fitted well. The residuals stll contains lots of information. We also try differenct $\\lambda$. The model does not fitted well until $\\lambda>log(-6)$. But we have almost 8 variables when $\\lambda$ reaches $log(-6)$. That's not an ideal model.\n",
    "In summary, the Lasso model is not suitable for it."
   ]
  },
  {
   "cell_type": "code",
   "execution_count": 42,
   "metadata": {},
   "outputs": [
    {
     "data": {
      "image/png": "[encoded data removed]",
      "text/plain": [
       "plot without title"
      ]
     },
     "metadata": {},
     "output_type": "display_data"
    }
   ],
   "source": [
    "body_norm <- normalization(BodyFat)\n",
    "model <- glmnet(x=model.matrix(~.,body_norm[,-1]), y=body_norm[,1],\n",
    "             family=\"gaussian\", alpha=1, lambda = exp(-4))\n",
    "BodyFat_y <- predict(model, newx =  model.matrix(~.,body_norm[,-1])) \n",
    "BodyFat_y <- unnormalization(BodyFat$BODYFAT,BodyFat_y)\n",
    "BodyFat_error <- BodyFat[,1]-t(BodyFat_y)\n",
    "plot(BodyFat$BODYFAT,BodyFat_error,ylab = \"Residuals\",xlab=\"Fitted Value\")"
   ]
  },
  {
   "cell_type": "markdown",
   "metadata": {},
   "source": [
    "The all possible regression (APR) is a method to find the best subset of all features, but it is computationally expensive. Stepwise regression is a method of fitting regression models in which the choice of predictive variables is carried out by an automatic procedure.$^{[2]}$ We first try the stepwise regression with AIC.<br>\n",
    "We tried forward, backward and Bidirectional elimination. All these models retain too much features. And these features have large VIF, which means they are strongly linear correlated. Thus we try a stronger penalty: BIC."
   ]
  },
  {
   "cell_type": "code",
   "execution_count": 27,
   "metadata": {},
   "outputs": [
    {
     "data": {
      "text/plain": [
       "\n",
       "Call:\n",
       "lm(formula = BODYFAT ~ AGE + WEIGHT + HEIGHT + ADIPOSITY + NECK + \n",
       "    ABDOMEN + HIP + THIGH + FOREARM + WRIST, data = BodyFat)\n",
       "\n",
       "Residuals:\n",
       "    Min      1Q  Median      3Q     Max \n",
       "-9.6345 -2.7350 -0.2834  2.7571  9.2898 \n",
       "\n",
       "Coefficients:\n",
       "              Estimate Std. Error t value Pr(>|t|)    \n",
       "(Intercept) -124.03067   47.52545  -2.610  0.00963 ** \n",
       "AGE            0.06684    0.02835   2.357  0.01921 *  \n",
       "WEIGHT        -0.37285    0.13009  -2.866  0.00452 ** \n",
       "HEIGHT         1.54182    0.67584   2.281  0.02340 *  \n",
       "ADIPOSITY      2.25716    0.94389   2.391  0.01756 *  \n",
       "NECK          -0.41425    0.20944  -1.978  0.04908 *  \n",
       "ABDOMEN        0.82045    0.07893  10.394  < 2e-16 ***\n",
       "HIP           -0.23152    0.12812  -1.807  0.07200 .  \n",
       "THIGH          0.31260    0.12101   2.583  0.01037 *  \n",
       "FOREARM        0.41375    0.17413   2.376  0.01828 *  \n",
       "WRIST         -1.46110    0.46658  -3.132  0.00195 ** \n",
       "---\n",
       "Signif. codes:  0 '***' 0.001 '**' 0.01 '*' 0.05 '.' 0.1 ' ' 1\n",
       "\n",
       "Residual standard error: 3.928 on 241 degrees of freedom\n",
       "Multiple R-squared:  0.7534,\tAdjusted R-squared:  0.7432 \n",
       "F-statistic: 73.65 on 10 and 241 DF,  p-value: < 2.2e-16\n"
      ]
     },
     "metadata": {},
     "output_type": "display_data"
    },
    {
     "data": {
      "text/plain": [
       "\n",
       "Call:\n",
       "lm(formula = BODYFAT ~ ABDOMEN + WEIGHT + WRIST + FOREARM + NECK + \n",
       "    AGE + THIGH + HIP, data = BodyFat)\n",
       "\n",
       "Residuals:\n",
       "    Min      1Q  Median      3Q     Max \n",
       "-10.079  -2.730  -0.166   2.667   9.438 \n",
       "\n",
       "Coefficients:\n",
       "             Estimate Std. Error t value Pr(>|t|)    \n",
       "(Intercept) -20.84753   10.55583  -1.975  0.04940 *  \n",
       "ABDOMEN       0.88204    0.06653  13.258  < 2e-16 ***\n",
       "WEIGHT       -0.08820    0.03590  -2.457  0.01472 *  \n",
       "WRIST        -1.39456    0.46830  -2.978  0.00320 ** \n",
       "FOREARM       0.48927    0.17236   2.839  0.00491 ** \n",
       "NECK         -0.42819    0.20652  -2.073  0.03919 *  \n",
       "AGE           0.05910    0.02833   2.086  0.03800 *  \n",
       "THIGH         0.28675    0.11925   2.405  0.01694 *  \n",
       "HIP          -0.18109    0.12662  -1.430  0.15395    \n",
       "---\n",
       "Signif. codes:  0 '***' 0.001 '**' 0.01 '*' 0.05 '.' 0.1 ' ' 1\n",
       "\n",
       "Residual standard error: 3.958 on 243 degrees of freedom\n",
       "Multiple R-squared:  0.7475,\tAdjusted R-squared:  0.7392 \n",
       "F-statistic: 89.94 on 8 and 243 DF,  p-value: < 2.2e-16\n"
      ]
     },
     "metadata": {},
     "output_type": "display_data"
    },
    {
     "data": {
      "text/plain": [
       "\n",
       "Call:\n",
       "lm(formula = BODYFAT ~ AGE + WEIGHT + HEIGHT + ADIPOSITY + NECK + \n",
       "    ABDOMEN + HIP + THIGH + FOREARM + WRIST, data = BodyFat)\n",
       "\n",
       "Residuals:\n",
       "    Min      1Q  Median      3Q     Max \n",
       "-9.6345 -2.7350 -0.2834  2.7571  9.2898 \n",
       "\n",
       "Coefficients:\n",
       "              Estimate Std. Error t value Pr(>|t|)    \n",
       "(Intercept) -124.03067   47.52545  -2.610  0.00963 ** \n",
       "AGE            0.06684    0.02835   2.357  0.01921 *  \n",
       "WEIGHT        -0.37285    0.13009  -2.866  0.00452 ** \n",
       "HEIGHT         1.54182    0.67584   2.281  0.02340 *  \n",
       "ADIPOSITY      2.25716    0.94389   2.391  0.01756 *  \n",
       "NECK          -0.41425    0.20944  -1.978  0.04908 *  \n",
       "ABDOMEN        0.82045    0.07893  10.394  < 2e-16 ***\n",
       "HIP           -0.23152    0.12812  -1.807  0.07200 .  \n",
       "THIGH          0.31260    0.12101   2.583  0.01037 *  \n",
       "FOREARM        0.41375    0.17413   2.376  0.01828 *  \n",
       "WRIST         -1.46110    0.46658  -3.132  0.00195 ** \n",
       "---\n",
       "Signif. codes:  0 '***' 0.001 '**' 0.01 '*' 0.05 '.' 0.1 ' ' 1\n",
       "\n",
       "Residual standard error: 3.928 on 241 degrees of freedom\n",
       "Multiple R-squared:  0.7534,\tAdjusted R-squared:  0.7432 \n",
       "F-statistic: 73.65 on 10 and 241 DF,  p-value: < 2.2e-16\n"
      ]
     },
     "metadata": {},
     "output_type": "display_data"
    },
    {
     "data": {
      "text/html": [
       "<dl class=dl-horizontal>\n",
       "\t<dt>AGE</dt>\n",
       "\t\t<dd>2.07737427603943</dd>\n",
       "\t<dt>WEIGHT</dt>\n",
       "\t\t<dd>237.36483325998</dd>\n",
       "\t<dt>HEIGHT</dt>\n",
       "\t\t<dd>50.6089427543841</dd>\n",
       "\t<dt>ADIPOSITY</dt>\n",
       "\t\t<dd>192.922507832724</dd>\n",
       "\t<dt>NECK</dt>\n",
       "\t\t<dd>4.21741164163624</dd>\n",
       "\t<dt>ABDOMEN</dt>\n",
       "\t\t<dd>11.786768297947</dd>\n",
       "\t<dt>HIP</dt>\n",
       "\t\t<dd>13.7066409745833</dd>\n",
       "\t<dt>THIGH</dt>\n",
       "\t\t<dd>6.56645764760958</dd>\n",
       "\t<dt>FOREARM</dt>\n",
       "\t\t<dd>2.01442707482249</dd>\n",
       "\t<dt>WRIST</dt>\n",
       "\t\t<dd>3.08719005887419</dd>\n",
       "</dl>\n"
      ],
      "text/latex": [
       "\\begin{description*}\n",
       "\\item[AGE] 2.07737427603943\n",
       "\\item[WEIGHT] 237.36483325998\n",
       "\\item[HEIGHT] 50.6089427543841\n",
       "\\item[ADIPOSITY] 192.922507832724\n",
       "\\item[NECK] 4.21741164163624\n",
       "\\item[ABDOMEN] 11.786768297947\n",
       "\\item[HIP] 13.7066409745833\n",
       "\\item[THIGH] 6.56645764760958\n",
       "\\item[FOREARM] 2.01442707482249\n",
       "\\item[WRIST] 3.08719005887419\n",
       "\\end{description*}\n"
      ],
      "text/markdown": [
       "AGE\n",
       ":   2.07737427603943WEIGHT\n",
       ":   237.36483325998HEIGHT\n",
       ":   50.6089427543841ADIPOSITY\n",
       ":   192.922507832724NECK\n",
       ":   4.21741164163624ABDOMEN\n",
       ":   11.786768297947HIP\n",
       ":   13.7066409745833THIGH\n",
       ":   6.56645764760958FOREARM\n",
       ":   2.01442707482249WRIST\n",
       ":   3.08719005887419\n",
       "\n"
      ],
      "text/plain": [
       "       AGE     WEIGHT     HEIGHT  ADIPOSITY       NECK    ABDOMEN        HIP \n",
       "  2.077374 237.364833  50.608943 192.922508   4.217412  11.786768  13.706641 \n",
       "     THIGH    FOREARM      WRIST \n",
       "  6.566458   2.014427   3.087190 "
      ]
     },
     "metadata": {},
     "output_type": "display_data"
    }
   ],
   "source": [
    "setwd(\"C://Doc/19spring/STAT628/Module1\")\n",
    "rm(list=ls())\n",
    "#data cleaning\n",
    "BodyFat = read.table(\"BodyFat.csv\", sep = \",\", header = T)\n",
    "BodyFat = BodyFat[,-1]\n",
    "BodyFat = BodyFat[,-2]\n",
    "BodyFat$HEIGHT[42] <- 69.5\n",
    "BodyFat$WEIGHT[221] <- 173.25\n",
    "BodyFat$WEIGHT[163] <- 164.25\n",
    "# BodyFat <- BodyFat[-c(182,172,39),]\n",
    "\n",
    "full.model <- lm(BODYFAT ~., data = BodyFat)\n",
    "reduce.model <- lm(BODYFAT~1,data=BodyFat)\n",
    "# Stepwise regression model\n",
    "step.model <- MASS::stepAIC(full.model, direction = \"both\", \n",
    "                      trace = F,scope=list(upper=full.model,lower=reduce.model))\n",
    "for.model <- MASS::stepAIC(reduce.model, direction = \"forward\", \n",
    "                      trace = F,scope=list(upper=full.model,lower=reduce.model))\n",
    "back.model <- MASS::stepAIC(full.model, direction = \"backward\", \n",
    "                      trace = F)\n",
    "summary(step.model)\n",
    "summary(for.model)\n",
    "summary(back.model)\n",
    "car::vif(step.model)\n",
    "# step.model <- MASS::stepAIC(full.model, direction = \"both\", \n",
    "#                       trace = F,scope=list(upper=full.model,lower=reduce.model)\n",
    "#                            ,k=log(nrow(BodyFat)-1))\n",
    "# for.model <- MASS::stepAIC(reduce.model, direction = \"forward\", \n",
    "#                       trace = F,scope=list(upper=full.model,lower=reduce.model)\n",
    "#                           ,k=log(nrow(BodyFat)-1))\n",
    "# back.model <- MASS::stepAIC(full.model, direction = \"backward\", \n",
    "#                       trace = F,\n",
    "#                            k=log(nrow(BodyFat)-1))\n",
    "# summary(step.model)\n",
    "# summary(for.model)\n",
    "# summary(back.model)"
   ]
  },
  {
   "cell_type": "markdown",
   "metadata": {},
   "source": [
    "[1] https://insightr.wordpress.com/2017/06/14/when-the-lasso-fails/ <br>\n",
    "[2]  Efroymson,M. A. (1960) \"Multiple regression analysis,\" Mathematical Methods for Digital Computers, Ralston A. and Wilf,H. S., (eds.), Wiley, New York.\n"
   ]
  }
 ],
 "metadata": {
  "kernelspec": {
   "display_name": "R",
   "language": "R",
   "name": "ir"
  },
  "language_info": {
   "codemirror_mode": "r",
   "file_extension": ".r",
   "mimetype": "text/x-r-source",
   "name": "R",
   "pygments_lexer": "r",
   "version": "3.4.1"
  }
 },
 "nbformat": 4,
 "nbformat_minor": 2
}
