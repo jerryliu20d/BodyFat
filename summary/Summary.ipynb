{
 "cells": [
  {
   "cell_type": "code",
   "execution_count": 77,
   "metadata": {
    "scrolled": true
   },
   "outputs": [
    {
     "data": {
      "text/html": [
       "<script>  \n",
       "code_show=true; \n",
       "function code_toggle() {\n",
       "  if (code_show){\n",
       "    $('div.input').hide();\n",
       "  } else {\n",
       "    $('div.input').show();\n",
       "  }\n",
       "  code_show = !code_show\n",
       "}  \n",
       "$( document ).ready(code_toggle);\n",
       "</script>\n",
       "  <form action=\"javascript:code_toggle()\">\n",
       "    <input type=\"submit\" value=\"Click here to toggle on/off the raw code.\">\n",
       " </form>"
      ]
     },
     "metadata": {},
     "output_type": "display_data"
    }
   ],
   "source": [
    "library(IRdisplay)\n",
    "\n",
    "display_html(\n",
    "'<script>  \n",
    "code_show=true; \n",
    "function code_toggle() {\n",
    "  if (code_show){\n",
    "    $(\\'div.input\\').hide();\n",
    "  } else {\n",
    "    $(\\'div.input\\').show();\n",
    "  }\n",
    "  code_show = !code_show\n",
    "}  \n",
    "$( document ).ready(code_toggle);\n",
    "</script>\n",
    "  <form action=\"javascript:code_toggle()\">\n",
    "    <input type=\"submit\" value=\"Click here to toggle on/off the raw code.\">\n",
    " </form>'\n",
    ")\n",
    "options(warn=-1)\n",
    "setwd(\"C://Doc/19spring/STAT628/Module1\")\n",
    "if(!require(\"faraway\")){\n",
    "    install.packages(\"faraway\")\n",
    "}\n",
    "if(!require(\"leaps\")){\n",
    "    install.packages(\"leaps\")\n",
    "}\n",
    "if(!require(plotmo)){\n",
    "    install.package(\"plotmo\")\n",
    "}\n",
    "if(!require(glmnet)){\n",
    "    install.package(\"glmnet\")\n",
    "}\n",
    "if(!require(corrplot)){\n",
    "    install.package(\"corrplot\")\n",
    "}\n",
    "require(plotmo)\n",
    "require(corrplot)\n",
    "require(glmnet)\n",
    "library(leaps)\n",
    "library(faraway)\n",
    "library(repr)\n",
    "options(warn=-1)"
   ]
  },
  {
   "cell_type": "markdown",
   "metadata": {},
   "source": [
    "# Introduction\n",
    "Body fat percentage, a measure of obesity, plays an important role in various health outcomes but it's costly to get accurate value. Our goal is to build a simple, robust, accurate and explainable model to predict body fat percentage. Finally, we find a 'rules of thumb' method to calculate bady fat percentage with three variables."
   ]
  },
  {
   "cell_type": "markdown",
   "metadata": {},
   "source": [
    "# Background\n",
    "The data set has 252 observations and 16 variables. Bodyfat is the dependent variable and since the underwater body density is technically hard to measure under common condition, we have 14 readily available clinical body measurements to estimate bodyfat. \n",
    "All of observations are men and we learned that abdomen is a key independent variable from google and a normal male's bodyfat should not smaller than 2."
   ]
  },
  {
   "cell_type": "markdown",
   "metadata": {},
   "source": [
    "# Data Cleaning"
   ]
  },
  {
   "cell_type": "markdown",
   "metadata": {},
   "source": [
    "Based on the background research, the range of bodyfat for a male athlete should not be lower than 2%-5%, and the range of bodyfat for a female athlete should not be lower than 10%-12%. We checked the data and there are two people whose bodyfat is lower than 2. Their number are 172 and 182. We decided to remove these abnormal people."
   ]
  },
  {
   "cell_type": "code",
   "execution_count": 12,
   "metadata": {},
   "outputs": [],
   "source": [
    "BodyFat = read.table(\"BodyFat.csv\", sep = \",\", header = T)\n",
    "BodyFat = BodyFat[,-c(1,3)]\n",
    "BodyFat$HEIGHT[42] <- 69.5\n",
    "BodyFat$WEIGHT[221] <- 173.25\n",
    "BodyFat$WEIGHT[163] <- 164.25\n",
    "BodyFat <- BodyFat[-c(182,172,39),]\n",
    "height <- BodyFat$HEIGHT / 39.37007874\n",
    "weight <- BodyFat$WEIGHT * 0.453592\n",
    "BMI <- weight / (height^2)\n",
    "BMI_diff <- NULL\n",
    "for (i in 1:length(BMI)) {\n",
    "  BMI_diff[i] <- BMI[i] - BodyFat$ADIPOSITY[i]\n",
    "  if (BMI_diff[i] > 0.1|BMI_diff[i] < -0.1){\n",
    "    #print(paste0(\"i = \",i,\"      BMI_difference = \",BMI_diff[i]))\n",
    "  }\n",
    "}\n",
    "model <- lm(BodyFat$BODYFAT ~ ., data=BodyFat)\n",
    "par(mar = c(2, 2, 0.1, 0.1), cex = 0.8)\n",
    "#plot(model, which = 4)"
   ]
  },
  {
   "cell_type": "markdown",
   "metadata": {},
   "source": [
    "There are three obvious outliers which are 42, 163 and 221. We used the adiposity data and either the weight data or the height data to check why there exists the mistake. It turns out that the height of 42 should be 69.5 instead of 29.5, the weight of 163 should be 164.25 instead of 184.25, and the height of 221 should be 173.25 instead of 153.25. After modifying these three data, the mean difference between the calculated BMI and the Adiposity equals to -0.03, so We checked the data which absolute difference is greater than 0.1 which is three times bigger than the mean. There are 7 people whose BMI absolute difference is greater than 0.1, but none of them have an obvious input error. All of their height or weight is in the 1st quantile area.\n",
    "Then I check the Cook's distance. We have to know that there always exists three extreme points, so we have to check whether the point is an outlier by ourself. For the 39 person,"
   ]
  },
  {
   "cell_type": "code",
   "execution_count": 14,
   "metadata": {},
   "outputs": [
    {
     "data": {
      "text/html": [
       "<table>\n",
       "<thead><tr><th></th><th scope=col>BODYFAT</th><th scope=col>AGE</th><th scope=col>WEIGHT</th><th scope=col>HEIGHT</th><th scope=col>ADIPOSITY</th><th scope=col>NECK</th><th scope=col>CHEST</th><th scope=col>ABDOMEN</th><th scope=col>HIP</th><th scope=col>THIGH</th><th scope=col>KNEE</th><th scope=col>ANKLE</th><th scope=col>BICEPS</th><th scope=col>FOREARM</th><th scope=col>WRIST</th></tr></thead>\n",
       "<tbody>\n",
       "\t<tr><th scope=row>40</th><td>31.3 </td><td>50   </td><td>203  </td><td>67   </td><td>31.8 </td><td>40.2 </td><td>114.8</td><td>108.1</td><td>102.5</td><td>61.3 </td><td>41.1 </td><td>24.7 </td><td>34.1 </td><td>31   </td><td>18.3 </td></tr>\n",
       "</tbody>\n",
       "</table>\n"
      ],
      "text/latex": [
       "\\begin{tabular}{r|lllllllllllllll}\n",
       "  & BODYFAT & AGE & WEIGHT & HEIGHT & ADIPOSITY & NECK & CHEST & ABDOMEN & HIP & THIGH & KNEE & ANKLE & BICEPS & FOREARM & WRIST\\\\\n",
       "\\hline\n",
       "\t40 & 31.3  & 50    & 203   & 67    & 31.8  & 40.2  & 114.8 & 108.1 & 102.5 & 61.3  & 41.1  & 24.7  & 34.1  & 31    & 18.3 \\\\\n",
       "\\end{tabular}\n"
      ],
      "text/markdown": [
       "\n",
       "| <!--/--> | BODYFAT | AGE | WEIGHT | HEIGHT | ADIPOSITY | NECK | CHEST | ABDOMEN | HIP | THIGH | KNEE | ANKLE | BICEPS | FOREARM | WRIST |\n",
       "|---|---|---|---|---|---|---|---|---|---|---|---|---|---|---|---|\n",
       "| 40 | 31.3  | 50    | 203   | 67    | 31.8  | 40.2  | 114.8 | 108.1 | 102.5 | 61.3  | 41.1  | 24.7  | 34.1  | 31    | 18.3  |\n",
       "\n"
      ],
      "text/plain": [
       "   BODYFAT AGE WEIGHT HEIGHT ADIPOSITY NECK CHEST ABDOMEN HIP   THIGH KNEE\n",
       "40 31.3    50  203    67     31.8      40.2 114.8 108.1   102.5 61.3  41.1\n",
       "   ANKLE BICEPS FOREARM WRIST\n",
       "40 24.7  34.1   31      18.3 "
      ]
     },
     "metadata": {},
     "output_type": "display_data"
    }
   ],
   "source": [
    "BodyFat[39,]"
   ]
  },
  {
   "cell_type": "markdown",
   "metadata": {},
   "source": [
    "He is a very heavy guy. He weights 363.15. So we decided to remove him from the model.\n",
    "For the next extreme point number 86,"
   ]
  },
  {
   "cell_type": "code",
   "execution_count": 15,
   "metadata": {},
   "outputs": [
    {
     "data": {
      "text/html": [
       "<table>\n",
       "<thead><tr><th></th><th scope=col>BODYFAT</th><th scope=col>AGE</th><th scope=col>WEIGHT</th><th scope=col>HEIGHT</th><th scope=col>ADIPOSITY</th><th scope=col>NECK</th><th scope=col>CHEST</th><th scope=col>ABDOMEN</th><th scope=col>HIP</th><th scope=col>THIGH</th><th scope=col>KNEE</th><th scope=col>ANKLE</th><th scope=col>BICEPS</th><th scope=col>FOREARM</th><th scope=col>WRIST</th></tr></thead>\n",
       "<tbody>\n",
       "\t<tr><th scope=row>87</th><td>15    </td><td>72    </td><td>157.75</td><td>67.25 </td><td>24.6  </td><td>37.7  </td><td>97.5  </td><td>88.1  </td><td>96.9  </td><td>57.2  </td><td>37.7  </td><td>21.8  </td><td>32.6  </td><td>28    </td><td>18.8  </td></tr>\n",
       "</tbody>\n",
       "</table>\n"
      ],
      "text/latex": [
       "\\begin{tabular}{r|lllllllllllllll}\n",
       "  & BODYFAT & AGE & WEIGHT & HEIGHT & ADIPOSITY & NECK & CHEST & ABDOMEN & HIP & THIGH & KNEE & ANKLE & BICEPS & FOREARM & WRIST\\\\\n",
       "\\hline\n",
       "\t87 & 15     & 72     & 157.75 & 67.25  & 24.6   & 37.7   & 97.5   & 88.1   & 96.9   & 57.2   & 37.7   & 21.8   & 32.6   & 28     & 18.8  \\\\\n",
       "\\end{tabular}\n"
      ],
      "text/markdown": [
       "\n",
       "| <!--/--> | BODYFAT | AGE | WEIGHT | HEIGHT | ADIPOSITY | NECK | CHEST | ABDOMEN | HIP | THIGH | KNEE | ANKLE | BICEPS | FOREARM | WRIST |\n",
       "|---|---|---|---|---|---|---|---|---|---|---|---|---|---|---|---|\n",
       "| 87 | 15     | 72     | 157.75 | 67.25  | 24.6   | 37.7   | 97.5   | 88.1   | 96.9   | 57.2   | 37.7   | 21.8   | 32.6   | 28     | 18.8   |\n",
       "\n"
      ],
      "text/plain": [
       "   BODYFAT AGE WEIGHT HEIGHT ADIPOSITY NECK CHEST ABDOMEN HIP  THIGH KNEE ANKLE\n",
       "87 15      72  157.75 67.25  24.6      37.7 97.5  88.1    96.9 57.2  37.7 21.8 \n",
       "   BICEPS FOREARM WRIST\n",
       "87 32.6   28      18.8 "
      ]
     },
     "metadata": {},
     "output_type": "display_data"
    }
   ],
   "source": [
    "BodyFat[86,]"
   ]
  },
  {
   "cell_type": "markdown",
   "metadata": {},
   "source": [
    "He is a tall but light person with all the other dimensions are relatively large, but no strong evidence shows that this is an outlier, so we decided to keep it. The person whose number is 192 is a person who is tall and heavy, so we decided to keep it based on the same reason. Then we checked whether there is a data point with high leverage.  \n",
    "As we mentioned before, R will always shows us three extreme points. After we double checked the suspected outliers, we decided to keep all the data points."
   ]
  },
  {
   "cell_type": "code",
   "execution_count": 16,
   "metadata": {},
   "outputs": [
    {
     "data": {
      "image/png": "[encoded data removed]",
      "text/plain": [
       "Plot with title \"\""
      ]
     },
     "metadata": {},
     "output_type": "display_data"
    }
   ],
   "source": [
    "model <- lm(BodyFat$BODYFAT ~ ., data=BodyFat)\n",
    "layout(matrix(1:4, ncol=2))\n",
    "par(mar = c(1, 1, 2, 2), cex = 0.8)\n",
    "plot(model,c(1,2,5))\n",
    "options(repr.plot.width=8, repr.plot.height=4)"
   ]
  },
  {
   "cell_type": "markdown",
   "metadata": {},
   "source": [
    "# Mallows's Cp\n",
    "We know that Mallows's Cp is a method that is applied in the context of model selection, where a number of predictor variables are available for predicting some outcome, and the goal is to find the best model involving a subset of these predictors. So we chose Mallows's Cp as one of the method."
   ]
  },
  {
   "cell_type": "code",
   "execution_count": 23,
   "metadata": {},
   "outputs": [
    {
     "data": {
      "image/png": "[encoded data removed]",
      "text/plain": [
       "plot without title"
      ]
     },
     "metadata": {},
     "output_type": "display_data"
    }
   ],
   "source": [
    "par(mar = c(2, 1, 0.1, 0.1), cex = 0.55)\n",
    "model <- lm(BodyFat$BODYFAT ~ ., data=BodyFat)\n",
    "X <- model.matrix(model)[,-1]\n",
    "Y <- BodyFat[,1]\n",
    "g <- leaps(X,Y, nbest=1)\n",
    "Cpplot(g)\n",
    "options(repr.plot.width=6, repr.plot.height=2)"
   ]
  },
  {
   "cell_type": "markdown",
   "metadata": {},
   "source": [
    "For the Mallows's Cp method，it will calculate the cp value for several regression models. The cp value represents the accuracy(variance) of the model estimating the actual regression coefficient and predicting the future response. Smaller the cp value is, the more accuracy the model will be. However, the cp value also represents the degree of deviation. Closer the cp value is to the number of variances plus a constant p, the model is relatively more unbiased. The line in the previous plot represents the number of variables plus a constant p, so what we are going to choose is the model which is closest to the line. The best answer should be variable: age, height, chest, abdomen, forearm, wrist.  \n",
    "We decided to give up the method at the end because this model is not as simple as the model selected by BIC."
   ]
  },
  {
   "cell_type": "code",
   "execution_count": 336,
   "metadata": {},
   "outputs": [],
   "source": [
    "cp_choice <- c(1,3,6,7,13,14)+1\n",
    "BodyFat <- BodyFat[,c(1,cp_choice)]\n",
    "model.cp <- lm(BodyFat$BODYFAT ~ ., data=BodyFat)"
   ]
  },
  {
   "cell_type": "markdown",
   "metadata": {},
   "source": [
    "# Lasso Regression\n",
    "Since Lasso regression penalize the coefficients with the same regulization. We need to regulize the features first. Lasso can eliminate the muticollinearity in a certain degree. However, it cannot tackle with the collinearity between authentic and noisy variables.$^{[1]}$ Thus we pick some variables according to our background research. We check the VIF and correlation of the selected variables. They donot have serious collinearity.  \n",
    "Then we split the data into two parts. It can help us to choose a better $\\lambda$."
   ]
  },
  {
   "cell_type": "code",
   "execution_count": 87,
   "metadata": {},
   "outputs": [],
   "source": [
    "rm(list=ls())\n",
    "#data cleaning\n",
    "BodyFat = read.table(\"BodyFat.csv\", sep = \",\", header = T)\n",
    "BodyFat = BodyFat[,-1]\n",
    "BodyFat = BodyFat[,-2]\n",
    "BodyFat$HEIGHT[42] <- 69.5\n",
    "BodyFat$WEIGHT[221] <- 173.25\n",
    "BodyFat$WEIGHT[163] <- 164.25\n",
    "BodyFat <- BodyFat[-c(182,172,39),]\n",
    "#LASSO normalization\n",
    "normalization <- function(datafr){\n",
    "  if(ncol(datafr) > 1){\n",
    "    new_dt <- as.data.frame(sapply(1:ncol(datafr), FUN = function(x)\n",
    "      (datafr[,x]-min(datafr[,x]))/(max(datafr[,x]-min(datafr[,x])))))\n",
    "    names(new_dt) <- names(datafr)\n",
    "    return(new_dt)\n",
    "  }else{\n",
    "    return((datafr-min(datafr))/(max(datafr)-min(datafr)))\n",
    "  }\n",
    "}\n",
    "unnormalization <- function(data_norm, data_raw){\n",
    "  ###data_norm is the data before normalization, data_raw is the data after normalization\n",
    "  if(ncol(data_raw) == 1){\n",
    "    data_trans <- data_raw*(max(data_norm)-min(data_norm))+min(data_norm)\n",
    "    return(data_trans)\n",
    "  }\n",
    "  if(!(ncol(data_norm) == ncol(data_raw))){\n",
    "    stop(\"Size does not match\")\n",
    "  }\n",
    "  if(ncol(data_norm)>1){\n",
    "    data_trans = as.data.frame(sapply(1:ncol(data_raw), FUN = function(x) \n",
    "      data_raw[,x]*(max(data_norm)-min(data_norm))+min(data_norm)))\n",
    "    names(data_trans) <- names(data_raw)\n",
    "    return(data_trans)\n",
    "  }\n",
    "}\n",
    "#Eliminating the muticollinearity\n",
    "BodyFat = BodyFat[,c(\"BODYFAT\",\"AGE\",\"ABDOMEN\",\"HEIGHT\",\"KNEE\",\"THIGH\",\"ANKLE\",\"BICEPS\",\"FOREARM\",\"WRIST\")]\n",
    "#corrplot::corrplot(cor(BodyFat),main=\"\\n Correlation Plot\",tl.cex=0.6)\n",
    "#print(\"The VIF of the selected variables are:\")\n",
    "#car::vif(lm(BODYFAT~.,data=normalization(BodyFat)))\n",
    "#data split\n",
    "all_row = 1:nrow(BodyFat)\n",
    "test = sample(all_row,nrow(BodyFat)*.2)\n",
    "train = all_row[!(all_row %in% test)]\n",
    "test = BodyFat[test,]\n",
    "train = BodyFat[train,]\n",
    "test_norm <- normalization(test)\n",
    "train_norm <- normalization(train)    \n",
    "options(repr.plot.width=8, repr.plot.height=2)"
   ]
  },
  {
   "cell_type": "markdown",
   "metadata": {},
   "source": [
    "The VIF of the selected model are:  \n",
    "AGE 2.08       ABDOMEN 3.65       HEIGHT 1.69       KNEE 4.17       THIGH 5.26       ANKLE 1.71       BICEPS 3.02       \n",
    "FORARM 2.22     WRIST 2.61  \n",
    "We try $\\lambda$ from $log(-10)$ to $log(-1)$. The plot below is the MSE v.s $log(\\lambda)$. Both train and test MSE increase as the $\\lambda$ grows. It stops increasing when $\\lambda$ is large enough to eliminate all coefficients. The trace plot of the coefficient shows that the number of features decrease as the lambda grows.  \n",
    "The right-hand side plot show how coefficients behave as the lambda decreas. We will only keep 2 variables if we choose $\\lambda=log(-4)$."
   ]
  },
  {
   "cell_type": "code",
   "execution_count": 27,
   "metadata": {},
   "outputs": [],
   "source": [
    "#Training lasso reg and select a best lambda\n",
    "log_lambda_range <- seq(-10,-1,0.01)\n",
    "MSE_train=c()\n",
    "MSE_test = c()\n",
    "for(log_lambda in log_lambda_range){\n",
    "  fit.lasso <- glmnet(x=model.matrix(~.,train_norm[,-1]), y=train_norm[,1],\n",
    "                      family=\"gaussian\", alpha=1, lambda = exp(log_lambda))\n",
    "  y_pred <- predict(fit.lasso, newx = model.matrix(~.,train_norm[,-1]))\n",
    "  train_error = y_pred - train_norm[,1]\n",
    "  MSE_train <- c(MSE_train, mean(train_error^2))\n",
    "  y_pred <- predict(fit.lasso, newx = model.matrix(~.,test_norm[,-1]))\n",
    "  test_error = y_pred - test_norm[,1]\n",
    "  MSE_test = c(MSE_test, mean(test_error^2))\n",
    "}"
   ]
  },
  {
   "cell_type": "code",
   "execution_count": 35,
   "metadata": {},
   "outputs": [
    {
     "data": {
      "image/png": "[encoded data removed]",
      "text/plain": [
       "Plot with title \"\""
      ]
     },
     "metadata": {},
     "output_type": "display_data"
    }
   ],
   "source": [
    "par(mfrow=c(1,2),mar = c(4, 4, 1, 1), cex = 0.8)\n",
    "options(repr.plot.width=8, repr.plot.height=4)\n",
    "#Plot MSE v.s lmabda\n",
    "plot(log_lambda_range, MSE_train, col = 'red', type=\"line\", xlab = \"log_lambda\",ylab=\"MSE\",\n",
    "     ylim=c(min(c(MSE_train,MSE_test)),max(c(MSE_train,MSE_test))))\n",
    "lines(log_lambda_range, MSE_test, col = \"blue\", type=\"line\")\n",
    "legend(\"top\", legend = c(\"Train\", \"test\"), col = c(\"red\",\"blue\"), lty=1,cex=1)\n",
    "\n",
    "#Plot the coefficients trace plot\n",
    "model <- glmnet(x=model.matrix(~.,train_norm[,-1]), y=train_norm[,1],\n",
    "                family=\"gaussian\", alpha=1, lambda = exp(log_lambda_range))\n",
    "plotmo::plot_glmnet(model,xlab=\"log_lambda\")\n",
    "options(warn=-1)"
   ]
  },
  {
   "cell_type": "markdown",
   "metadata": {},
   "source": [
    "Then we check how MSE behave when using crossvalidation. The following plot shows that it donot have a large deviation when doing 10-folds crossvalidation. Take both MSE and model complexity into consideration, we choose $\\lambda=log(-4)$ as the final Lasso model.  \n",
    "We fit the lasso model on the whole dataset with $\\lambda=log(-4)$. When we check the residuals, it shows some patterns. The model is not fitted well. The residuals stll contains lots of information. We also try differenct $\\lambda$. The model does not fitted well until $\\lambda>log(-6)$. But we have almost 8 variables when $\\lambda$ reaches $log(-6)$. That's not an ideal model.\n",
    "In summary, the Lasso model is not suitable for it."
   ]
  },
  {
   "cell_type": "code",
   "execution_count": 86,
   "metadata": {},
   "outputs": [
    {
     "data": {
      "image/png": "[encoded data removed]",
      "text/plain": [
       "plot without title"
      ]
     },
     "metadata": {},
     "output_type": "display_data"
    }
   ],
   "source": [
    "#cross validation model on the whole dataset\n",
    "par(mfrow=c(1,2),mar = c(4, .01, .01, 4), cex = 0.8)\n",
    "#options(repr.plot.width=1, repr.plot.height=1)\n",
    "body_norm = normalization(BodyFat)\n",
    "cv_model = cv.glmnet(x=model.matrix(~.,body_norm[,-1]), y=body_norm[,1],\n",
    "                     family=\"gaussian\", alpha=1, lambda = exp(log_lambda_range),\n",
    "                     nfolds=10)\n",
    "plot(cv_model,xlab=\"log_labmda\")\n",
    "options(repr.plot.width=8, repr.plot.height=3.5)\n",
    "body_norm <- normalization(BodyFat)\n",
    "model <- glmnet(x=model.matrix(~.,body_norm[,-1]), y=body_norm[,1],\n",
    "             family=\"gaussian\", alpha=1, lambda = exp(-4))\n",
    "BodyFat_y <- predict(model, newx =  model.matrix(~.,body_norm[,-1])) \n",
    "BodyFat_y <- unnormalization(BodyFat$BODYFAT,BodyFat_y)\n",
    "BodyFat_error <- BodyFat[,1]-t(BodyFat_y)\n",
    "plot(BodyFat$BODYFAT,BodyFat_error,ylab = \"Residuals\",xlab=\"Fitted Value\")"
   ]
  },
  {
   "cell_type": "markdown",
   "metadata": {},
   "source": [
    "# Stepwise selection\n",
    "## Akaike information criterion(AIC)\n",
    "The all possible regression (APR) is a method to find the best subset of all features, but it is computationally expensive. Stepwise regression is a method of fitting regression models in which the choice of predictive variables is carried out by an automatic procedure.$^{[2]}$ We first try the stepwise regression with AIC.<br>\n",
    "We tried forward, backward and Bidirectional elimination. All these models retain too much features. And these features have large VIF, which means they are strongly linear correlated. Thus we try a stronger penalty: BIC."
   ]
  },
  {
   "cell_type": "code",
   "execution_count": 342,
   "metadata": {},
   "outputs": [
    {
     "name": "stdout",
     "output_type": "stream",
     "text": [
      "[1] \"Bidirectional selection\"\n",
      "lm(formula = BODYFAT ~ AGE + WEIGHT + HEIGHT + ADIPOSITY + NECK + \n",
      "    ABDOMEN + HIP + THIGH + FOREARM + WRIST, data = BodyFat)\n",
      "[1] \"Forward selection\"\n",
      "lm(formula = BODYFAT ~ ABDOMEN + WEIGHT + WRIST + FOREARM + NECK + \n",
      "    AGE + THIGH + HIP, data = BodyFat)\n",
      "[1] \"Backward selection\"\n",
      "lm(formula = BODYFAT ~ AGE + WEIGHT + HEIGHT + ADIPOSITY + NECK + \n",
      "    ABDOMEN + HIP + THIGH + FOREARM + WRIST, data = BodyFat)\n"
     ]
    }
   ],
   "source": [
    "setwd(\"C://Doc/19spring/STAT628/Module1\")\n",
    "rm(list=ls())\n",
    "#data cleaning\n",
    "BodyFat = read.table(\"BodyFat.csv\", sep = \",\", header = T)\n",
    "BodyFat = BodyFat[,-1]\n",
    "BodyFat = BodyFat[,-2]\n",
    "BodyFat$HEIGHT[42] <- 69.5\n",
    "BodyFat$WEIGHT[221] <- 173.25\n",
    "BodyFat$WEIGHT[163] <- 164.25\n",
    "# BodyFat <- BodyFat[-c(182,172,39),]\n",
    "\n",
    "full.model <- lm(BODYFAT ~., data = BodyFat)\n",
    "reduce.model <- lm(BODYFAT~1,data=BodyFat)\n",
    "# Stepwise regression model\n",
    "step.model <- MASS::stepAIC(full.model, direction = \"both\", \n",
    "                      trace = F,scope=list(upper=full.model,lower=reduce.model))\n",
    "for.model <- MASS::stepAIC(reduce.model, direction = \"forward\", \n",
    "                      trace = F,scope=list(upper=full.model,lower=reduce.model))\n",
    "back.model <- MASS::stepAIC(full.model, direction = \"backward\", \n",
    "                      trace = F)\n",
    "print(\"Bidirectional selection\")\n",
    "print(step.model$call)\n",
    "print(\"Forward selection\")\n",
    "print(for.model$call)\n",
    "print(\"Backward selection\")\n",
    "print(back.model$call)"
   ]
  },
  {
   "cell_type": "markdown",
   "metadata": {},
   "source": [
    "## Bayesian information criterion(BIC)"
   ]
  },
  {
   "cell_type": "code",
   "execution_count": 343,
   "metadata": {},
   "outputs": [],
   "source": [
    "#data after preprocessing\n",
    "BodyFatClean <- read.table(\"BodyFat.csv\", sep = \",\", header = T)\n",
    "df <- subset(BodyFatClean, select = -c(IDNO,DENSITY))\n",
    "df1 = df\n",
    "df1[42,4] = 69.5\n",
    "df1[221,3] = 173.25\n",
    "df1[163,3] = 164.25\n",
    "df2 = df1[-c(39,172,182),]\n",
    "df = df2\n",
    "full.model <- lm(formula = BODYFAT ~ ., data = df)\n",
    "reduce.model <- lm(formula = BODYFAT ~ 1, data = df)\n",
    "BodyFat = df"
   ]
  },
  {
   "cell_type": "markdown",
   "metadata": {},
   "source": [
    "we have learned that BIC tend to choose less variables than AIC so we use BIC to choose the best model.Three different directions are used but their outcomes are same. "
   ]
  },
  {
   "cell_type": "code",
   "execution_count": 344,
   "metadata": {},
   "outputs": [
    {
     "name": "stdout",
     "output_type": "stream",
     "text": [
      "[1] \"Bidirectional selection\"\n",
      "lm(formula = BODYFAT ~ WEIGHT + ABDOMEN + WRIST, data = df)\n",
      "[1] \"Forward selection\"\n",
      "lm(formula = BODYFAT ~ ABDOMEN + WEIGHT + WRIST, data = df)\n",
      "[1] \"Backward selection\"\n",
      "lm(formula = BODYFAT ~ WEIGHT + ABDOMEN + WRIST, data = df)\n"
     ]
    }
   ],
   "source": [
    "step.model <- MASS::stepAIC(full.model, direction = \"both\", trace = F,scope=list(upper=full.model,lower=reduce.model)\n",
    "                            ,k=log(nrow(BodyFat)-1))\n",
    "for.model <- MASS::stepAIC(reduce.model, direction = \"forward\", trace = F,scope=list(upper=full.model,lower=reduce.model)\n",
    "                            ,k=log(nrow(BodyFat)-1))\n",
    "back.model <- MASS::stepAIC(full.model, direction = \"backward\", trace = F,\n",
    "                           k=log(nrow(BodyFat)-1))\n",
    "print(\"Bidirectional selection\")\n",
    "print(step.model$call)\n",
    "print(\"Forward selection\")\n",
    "print(for.model$call)\n",
    "print(\"Backward selection\")\n",
    "print(back.model$call)"
   ]
  },
  {
   "cell_type": "code",
   "execution_count": 5,
   "metadata": {},
   "outputs": [],
   "source": [
    "#the model based on BIC has adj-r-square larger than 0.7 and every variable is significant with p-value less than 0.05\n",
    "final.model = lm(formula = BODYFAT ~ WEIGHT + ABDOMEN + WRIST, data = df)\n",
    "#summary(final.model)"
   ]
  },
  {
   "cell_type": "code",
   "execution_count": null,
   "metadata": {},
   "outputs": [],
   "source": [
    "lm.full <- lm(formula = BODYFAT ~ ., data = df)\n",
    "#sprintf(\"The RMSE is: %f\",mean((df$BODYFAT - predict(lm.full,df)) ^ 2)^(1/2))"
   ]
  },
  {
   "cell_type": "markdown",
   "metadata": {},
   "source": [
    "We do cross validation and it shows the model isn't overfitting since the rmse from full data and part of data are very close.  \n",
    "We find that the points fall on a straight line which means standardized residual follows standard normal distribution so it satisfy normality assumption. For homoscedasticity, based on the residual plot, points are located randomly on the plot and the average equals to 0, which means the model is homoscedastic. We use vif function to calculate vif of each variable and their values are less than 10 which means no significant multicollinearity among our model. Besides, the largest cook distance is around 0.04 and it's quite small so no more data cleaning need to do with our final model."
   ]
  },
  {
   "cell_type": "code",
   "execution_count": 348,
   "metadata": {
    "scrolled": false
   },
   "outputs": [
    {
     "data": {
      "image/png": "[encoded data removed]",
      "text/plain": [
       "Plot with title \"\""
      ]
     },
     "metadata": {},
     "output_type": "display_data"
    }
   ],
   "source": [
    "layout(matrix(1:4, ncol=2))\n",
    "par(mar = c(1, 1, 2, 2), cex = 0.8)\n",
    "plot(final.model,c(1,5,2))\n",
    "#vif(final.model)\n",
    "options(repr.plot.width=8, repr.plot.height=4)"
   ]
  },
  {
   "cell_type": "markdown",
   "metadata": {},
   "source": [
    "# Rules of thumb\n",
    "weight(lbs) multiplied by -0.1 plus abdomen(cm) multiplied by 0.9 plus wrist(cm) multiplied by -1.3 minus 23.0  \n",
    "$$bodyfat = -23.0 - 0.1*WEIGHT + 0.9*ABDOMEN - 1.3*WRIST$$\n",
    "# Example\n",
    "For a 180lbs man with 95 abdomen circumference and 18 wrist circumference, his predicted bodyfat would be around 21.\n",
    "# Interpretation\n",
    "You may be confused with parameter -0.09 because fat person has larger weight.  \n",
    "But based on \"a pound of muscle occupies less space than a pound of fat\", if we suppose two people have the same abdomen and wrist, that's to say their volume are similar, muscle man weighted higher than fat man and that's why the parameter is negative. For wrist, it represent your skeleton and it's inborn.Let's imagine two people with similarly-sized skeleton and fat man should have larger abdomen. Similarly, the people who have larger wrist is likely to be a muscle man.Therefore the parameter of abdomen is positive and the parameter of wrist is negative.\n",
    "# Strength and Weakness\n",
    "Our model is simple and it leads to robustness.Also, the model is easy to interpret with explicit coeficients.\n",
    "but we need to do feature engineering to create more features and we may get a better model.for example, we have known muscle man have larger wrist and smaller abdomen and we can use abdomen/wrist as a new feature and since 'a pound of muscle occupies less space than a pound of fat',we can create new features by weight divided by other features, like weight/wrist and weight/abdomen.Basicly wrist and abdomen stand for volumn.  \n",
    "Besides,qq plot shows a person has too large or too small bodyfat will not be estimated correctly.so we can use a complex model,for example we can do classification at first step if we have more data.\n",
    "# Reference\n",
    "[1] https://insightr.wordpress.com/2017/06/14/when-the-lasso-fails/ <br>\n",
    "[2]  Efroymson,M. A. (1960) \"Multiple regression analysis,\" Mathematical Methods for Digital Computers, Ralston A. and Wilf,H. S., (eds.), Wiley, New York.\n",
    "# Contribution\n",
    "Jiaming Zhou: Background research, Data Cleaning, Mallows's Cp, slides, notebook, shiny  \n",
    "Lijie Liu: Lasso, AIC, Result, notebook, slides  \n",
    "Xiangan Zhang: BIC,Result, notebook, slides  "
   ]
  }
 ],
 "metadata": {
  "kernelspec": {
   "display_name": "R",
   "language": "R",
   "name": "ir"
  },
  "language_info": {
   "codemirror_mode": "r",
   "file_extension": ".r",
   "mimetype": "text/x-r-source",
   "name": "R",
   "pygments_lexer": "r",
   "version": "3.4.1"
  }
 },
 "nbformat": 4,
 "nbformat_minor": 2
}
